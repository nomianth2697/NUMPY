{
 "cells": [
  {
   "cell_type": "markdown",
   "id": "f17ee8d4",
   "metadata": {},
   "source": [
    "   # {TESTING OF NUMPY}"
   ]
  },
  {
   "cell_type": "code",
   "execution_count": 1,
   "id": "87934137",
   "metadata": {},
   "outputs": [
    {
     "name": "stdout",
     "output_type": "stream",
     "text": [
      "[1 2 3 4 5 6 7]\n"
     ]
    },
    {
     "data": {
      "text/plain": [
       "array([  0,   1,   2,   3,   4,   5,   6,   7,   8,   9,  10,  11,  12,\n",
       "        13,  14,  15,  16,  17,  18,  19,  20,  21,  22,  23,  24,  25,\n",
       "        26,  27,  28,  29,  30,  31,  32,  33,  34,  35,  36,  37,  38,\n",
       "        39,  40,  41,  42,  43,  44,  45,  46,  47,  48,  49,  50,  51,\n",
       "        52,  53,  54,  55,  56,  57,  58,  59,  60,  61,  62,  63,  64,\n",
       "        65,  66,  67,  68,  69,  70,  71,  72,  73,  74,  75,  76,  77,\n",
       "        78,  79,  80,  81,  82,  83,  84,  85,  86,  87,  88,  89,  90,\n",
       "        91,  92,  93,  94,  95,  96,  97,  98,  99, 100])"
      ]
     },
     "execution_count": 1,
     "metadata": {},
     "output_type": "execute_result"
    }
   ],
   "source": [
    "import numpy as np\n",
    "a = np.array ([1,2,3,4,5,6,7])\n",
    "print (a)\n",
    "\n",
    "p = np.arange(101)\n",
    "p\n"
   ]
  },
  {
   "cell_type": "code",
   "execution_count": 2,
   "id": "6bd86792",
   "metadata": {},
   "outputs": [
    {
     "name": "stdout",
     "output_type": "stream",
     "text": [
      "71.9 µs ± 2.46 µs per loop (mean ± std. dev. of 7 runs, 10,000 loops each)\n"
     ]
    }
   ],
   "source": [
    "k = range(1000) \n",
    "%timeit [i**2 for i in k]"
   ]
  },
  {
   "cell_type": "code",
   "execution_count": 3,
   "id": "218ee7d2",
   "metadata": {},
   "outputs": [
    {
     "name": "stdout",
     "output_type": "stream",
     "text": [
      "1.61 µs ± 85.1 ns per loop (mean ± std. dev. of 7 runs, 1,000,000 loops each)\n"
     ]
    }
   ],
   "source": [
    "a = np.arange(1000)\n",
    "%timeit a**2"
   ]
  },
  {
   "cell_type": "code",
   "execution_count": 4,
   "id": "c611c680",
   "metadata": {},
   "outputs": [
    {
     "data": {
      "text/plain": [
       "array([0, 1, 2, 3])"
      ]
     },
     "execution_count": 4,
     "metadata": {},
     "output_type": "execute_result"
    }
   ],
   "source": [
    "# creating 1-d array\n",
    "b = np.array ([0,1,2,3])\n",
    "b"
   ]
  },
  {
   "cell_type": "code",
   "execution_count": 5,
   "id": "bbca0205",
   "metadata": {},
   "outputs": [
    {
     "data": {
      "text/plain": [
       "1"
      ]
     },
     "execution_count": 5,
     "metadata": {},
     "output_type": "execute_result"
    }
   ],
   "source": [
    "# dimensition of array\n",
    "b.ndim"
   ]
  },
  {
   "cell_type": "code",
   "execution_count": 6,
   "id": "bb7be911",
   "metadata": {},
   "outputs": [
    {
     "data": {
      "text/plain": [
       "(4,)"
      ]
     },
     "execution_count": 6,
     "metadata": {},
     "output_type": "execute_result"
    }
   ],
   "source": [
    "# find the shape of array\n",
    "b.shape"
   ]
  },
  {
   "cell_type": "code",
   "execution_count": 7,
   "id": "842ba57a",
   "metadata": {},
   "outputs": [
    {
     "data": {
      "text/plain": [
       "4"
      ]
     },
     "execution_count": 7,
     "metadata": {},
     "output_type": "execute_result"
    }
   ],
   "source": [
    "# find len of array\n",
    "len(b)"
   ]
  },
  {
   "cell_type": "code",
   "execution_count": 8,
   "id": "2336f99a",
   "metadata": {},
   "outputs": [
    {
     "data": {
      "text/plain": [
       "array([[1, 2, 3, 4],\n",
       "       [5, 6, 7, 8]])"
      ]
     },
     "execution_count": 8,
     "metadata": {},
     "output_type": "execute_result"
    }
   ],
   "source": [
    "# creating 2-d array\n",
    "c = np.array([[1,2,3,4],\n",
    "      [5,6,7,8]])\n",
    "c"
   ]
  },
  {
   "cell_type": "code",
   "execution_count": 9,
   "id": "13a157ad",
   "metadata": {},
   "outputs": [
    {
     "data": {
      "text/plain": [
       "(2, 4)"
      ]
     },
     "execution_count": 9,
     "metadata": {},
     "output_type": "execute_result"
    }
   ],
   "source": [
    "# finding shape of array\n",
    "c.shape"
   ]
  },
  {
   "cell_type": "code",
   "execution_count": 10,
   "id": "2e24b51c",
   "metadata": {},
   "outputs": [
    {
     "data": {
      "text/plain": [
       "2"
      ]
     },
     "execution_count": 10,
     "metadata": {},
     "output_type": "execute_result"
    }
   ],
   "source": [
    "len(c)"
   ]
  },
  {
   "cell_type": "code",
   "execution_count": 11,
   "id": "12bb2494",
   "metadata": {},
   "outputs": [
    {
     "data": {
      "text/plain": [
       "2"
      ]
     },
     "execution_count": 11,
     "metadata": {},
     "output_type": "execute_result"
    }
   ],
   "source": [
    "c.ndim"
   ]
  },
  {
   "cell_type": "code",
   "execution_count": 12,
   "id": "481d23cc",
   "metadata": {},
   "outputs": [
    {
     "data": {
      "text/plain": [
       "2"
      ]
     },
     "execution_count": 12,
     "metadata": {},
     "output_type": "execute_result"
    }
   ],
   "source": [
    "len(c) #returns the size of first dimension"
   ]
  },
  {
   "cell_type": "code",
   "execution_count": 13,
   "id": "1261f5d0",
   "metadata": {},
   "outputs": [
    {
     "data": {
      "text/plain": [
       "array([[[0, 1],\n",
       "        [2, 3]],\n",
       "\n",
       "       [[4, 5],\n",
       "        [5, 6]]])"
      ]
     },
     "execution_count": 13,
     "metadata": {},
     "output_type": "execute_result"
    }
   ],
   "source": [
    "# creating 3-d array\n",
    "d = np.array ([[[0,1],[2,3]],[[4,5],[5,6]]])\n",
    "d"
   ]
  },
  {
   "cell_type": "code",
   "execution_count": 14,
   "id": "2a524240",
   "metadata": {},
   "outputs": [
    {
     "data": {
      "text/plain": [
       "3"
      ]
     },
     "execution_count": 14,
     "metadata": {},
     "output_type": "execute_result"
    }
   ],
   "source": [
    "d.ndim"
   ]
  },
  {
   "cell_type": "code",
   "execution_count": 15,
   "id": "16871886",
   "metadata": {},
   "outputs": [
    {
     "data": {
      "text/plain": [
       "(2, 2, 2)"
      ]
     },
     "execution_count": 15,
     "metadata": {},
     "output_type": "execute_result"
    }
   ],
   "source": [
    "d.shape"
   ]
  },
  {
   "cell_type": "code",
   "execution_count": 16,
   "id": "d44d4cc7",
   "metadata": {},
   "outputs": [
    {
     "data": {
      "text/plain": [
       "2"
      ]
     },
     "execution_count": 16,
     "metadata": {},
     "output_type": "execute_result"
    }
   ],
   "source": [
    "len(d) #ye sirf first dimension ki hi lenth leta hai\n"
   ]
  },
  {
   "cell_type": "markdown",
   "id": "f434f34e",
   "metadata": {},
   "source": [
    "# #function for creating array"
   ]
  },
  {
   "cell_type": "code",
   "execution_count": 17,
   "id": "4ab8da28",
   "metadata": {},
   "outputs": [
    {
     "data": {
      "text/plain": [
       "array([ 0,  1,  2,  3,  4,  5,  6,  7,  8,  9, 10])"
      ]
     },
     "execution_count": 17,
     "metadata": {},
     "output_type": "execute_result"
    }
   ],
   "source": [
    "#using arrange function\n",
    "e = np.arange(0,11)\n",
    "e"
   ]
  },
  {
   "cell_type": "code",
   "execution_count": 18,
   "id": "22fcd8e9",
   "metadata": {},
   "outputs": [
    {
     "data": {
      "text/plain": [
       "array([ 0,  2,  4,  6,  8, 10])"
      ]
     },
     "execution_count": 18,
     "metadata": {},
     "output_type": "execute_result"
    }
   ],
   "source": [
    "# if we have a gap\n",
    "e = np.arange(0,11,2)\n",
    "e"
   ]
  },
  {
   "cell_type": "code",
   "execution_count": 19,
   "id": "2092f8cc",
   "metadata": {},
   "outputs": [
    {
     "data": {
      "text/plain": [
       "array([ 0.,  5., 10., 15., 20., 25., 30., 35., 40., 45.])"
      ]
     },
     "execution_count": 19,
     "metadata": {},
     "output_type": "execute_result"
    }
   ],
   "source": [
    "# using linespace function\n",
    "f= np.linspace(0,45,10)# (start,end,number of points)\n",
    "f"
   ]
  },
  {
   "cell_type": "code",
   "execution_count": 20,
   "id": "37e57cad",
   "metadata": {},
   "outputs": [
    {
     "data": {
      "text/plain": [
       "array([[1., 1., 1., 1., 1., 1., 1., 1., 1., 1., 1., 1.],\n",
       "       [1., 1., 1., 1., 1., 1., 1., 1., 1., 1., 1., 1.],\n",
       "       [1., 1., 1., 1., 1., 1., 1., 1., 1., 1., 1., 1.],\n",
       "       [1., 1., 1., 1., 1., 1., 1., 1., 1., 1., 1., 1.],\n",
       "       [1., 1., 1., 1., 1., 1., 1., 1., 1., 1., 1., 1.]])"
      ]
     },
     "execution_count": 20,
     "metadata": {},
     "output_type": "execute_result"
    }
   ],
   "source": [
    "# common arrays\n",
    "g = np.ones([5, 12])\n",
    "g"
   ]
  },
  {
   "cell_type": "code",
   "execution_count": 21,
   "id": "527fd4db",
   "metadata": {},
   "outputs": [
    {
     "data": {
      "text/plain": [
       "array([[0., 0., 0., 0., 0.],\n",
       "       [0., 0., 0., 0., 0.],\n",
       "       [0., 0., 0., 0., 0.],\n",
       "       [0., 0., 0., 0., 0.],\n",
       "       [0., 0., 0., 0., 0.]])"
      ]
     },
     "execution_count": 21,
     "metadata": {},
     "output_type": "execute_result"
    }
   ],
   "source": [
    "h = np.zeros ([5,5])\n",
    "h"
   ]
  },
  {
   "cell_type": "code",
   "execution_count": 22,
   "id": "f0b380fa",
   "metadata": {},
   "outputs": [
    {
     "data": {
      "text/plain": [
       "array([[1., 0., 0., 0.],\n",
       "       [0., 1., 0., 0.],\n",
       "       [0., 0., 1., 0.],\n",
       "       [0., 0., 0., 1.]])"
      ]
     },
     "execution_count": 22,
     "metadata": {},
     "output_type": "execute_result"
    }
   ],
   "source": [
    "# identity matrix\n",
    "i = np.eye(4,4)\n",
    "i"
   ]
  },
  {
   "cell_type": "code",
   "execution_count": 23,
   "id": "263ab892",
   "metadata": {
    "scrolled": true
   },
   "outputs": [
    {
     "data": {
      "text/plain": [
       "array([[0, 0, 0, 0, 0],\n",
       "       [0, 1, 0, 0, 0],\n",
       "       [0, 0, 2, 0, 0],\n",
       "       [0, 0, 0, 3, 0],\n",
       "       [0, 0, 0, 0, 4]])"
      ]
     },
     "execution_count": 23,
     "metadata": {},
     "output_type": "execute_result"
    }
   ],
   "source": [
    "# creating digonal(diag)matrix\n",
    "j = np.diag([0,1,2,3,4])\n",
    "j"
   ]
  },
  {
   "cell_type": "code",
   "execution_count": 24,
   "id": "19756cec",
   "metadata": {},
   "outputs": [
    {
     "data": {
      "text/plain": [
       "array([0, 1, 2, 3, 4])"
      ]
     },
     "execution_count": 24,
     "metadata": {},
     "output_type": "execute_result"
    }
   ],
   "source": [
    "# extract values\n",
    "np.diag(j)"
   ]
  },
  {
   "cell_type": "code",
   "execution_count": 25,
   "id": "ae5612fe",
   "metadata": {},
   "outputs": [
    {
     "data": {
      "text/plain": [
       "2"
      ]
     },
     "execution_count": 25,
     "metadata": {},
     "output_type": "execute_result"
    }
   ],
   "source": [
    "j.ndim"
   ]
  },
  {
   "cell_type": "code",
   "execution_count": 26,
   "id": "19542f9e",
   "metadata": {},
   "outputs": [
    {
     "data": {
      "text/plain": [
       "5"
      ]
     },
     "execution_count": 26,
     "metadata": {},
     "output_type": "execute_result"
    }
   ],
   "source": [
    "len(j)"
   ]
  },
  {
   "cell_type": "code",
   "execution_count": 27,
   "id": "0400099d",
   "metadata": {},
   "outputs": [
    {
     "data": {
      "text/plain": [
       "(5, 5)"
      ]
     },
     "execution_count": 27,
     "metadata": {},
     "output_type": "execute_result"
    }
   ],
   "source": [
    "j.shape"
   ]
  },
  {
   "cell_type": "code",
   "execution_count": 28,
   "id": "30668000",
   "metadata": {},
   "outputs": [
    {
     "data": {
      "text/plain": [
       "array([0.15012388, 0.25649503, 0.32722756, 0.2414541 , 0.97329274])"
      ]
     },
     "execution_count": 28,
     "metadata": {},
     "output_type": "execute_result"
    }
   ],
   "source": [
    "# creat array using rand0m (random value matrix)\n",
    "np.random.rand(5)"
   ]
  },
  {
   "cell_type": "markdown",
   "id": "661fad9d",
   "metadata": {},
   "source": [
    "# #Basic data typs"
   ]
  },
  {
   "cell_type": "code",
   "execution_count": 29,
   "id": "afe327c3",
   "metadata": {},
   "outputs": [
    {
     "data": {
      "text/plain": [
       "dtype('int32')"
      ]
     },
     "execution_count": 29,
     "metadata": {},
     "output_type": "execute_result"
    }
   ],
   "source": [
    "# check datatype\n",
    "k = np.arange(10)\n",
    "\n",
    "k.dtype"
   ]
  },
  {
   "cell_type": "code",
   "execution_count": 30,
   "id": "d3477b60",
   "metadata": {},
   "outputs": [
    {
     "data": {
      "text/plain": [
       "array([0., 1., 2., 3., 4., 5., 6., 7., 8., 9.])"
      ]
     },
     "execution_count": 30,
     "metadata": {},
     "output_type": "execute_result"
    }
   ],
   "source": [
    "# change datatype\n",
    "k = np.arange(10,dtype= \"float64\")\n",
    "k"
   ]
  },
  {
   "cell_type": "code",
   "execution_count": 31,
   "id": "14f69e40",
   "metadata": {},
   "outputs": [
    {
     "name": "stdout",
     "output_type": "stream",
     "text": [
      "[[0. 0. 0. 0.]\n",
      " [0. 0. 0. 0.]\n",
      " [0. 0. 0. 0.]\n",
      " [0. 0. 0. 0.]]\n"
     ]
    },
    {
     "data": {
      "text/plain": [
       "dtype('float64')"
      ]
     },
     "execution_count": 31,
     "metadata": {},
     "output_type": "execute_result"
    }
   ],
   "source": [
    "l = np.zeros([4,4])\n",
    "print(l)\n",
    "l.dtype"
   ]
  },
  {
   "cell_type": "code",
   "execution_count": 32,
   "id": "a967d909",
   "metadata": {},
   "outputs": [
    {
     "name": "stdout",
     "output_type": "stream",
     "text": [
      "[1.+2.j 2.+4.j]\n"
     ]
    },
    {
     "data": {
      "text/plain": [
       "dtype('complex128')"
      ]
     },
     "execution_count": 32,
     "metadata": {},
     "output_type": "execute_result"
    }
   ],
   "source": [
    "# complax datatypes\n",
    "m = np.array([1+2j,2+4j])\n",
    "print (m)\n",
    "m.dtype"
   ]
  },
  {
   "cell_type": "code",
   "execution_count": 33,
   "id": "5631c688",
   "metadata": {},
   "outputs": [
    {
     "name": "stdout",
     "output_type": "stream",
     "text": [
      "[ True False False  True]\n"
     ]
    },
    {
     "data": {
      "text/plain": [
       "dtype('bool')"
      ]
     },
     "execution_count": 33,
     "metadata": {},
     "output_type": "execute_result"
    }
   ],
   "source": [
    "# boolian datatype\n",
    "n = np.array([True,False,False,True])\n",
    "print (n)\n",
    "n.dtype"
   ]
  },
  {
   "cell_type": "markdown",
   "id": "bdbf5714",
   "metadata": {},
   "source": [
    "# #Indexing and slysing"
   ]
  },
  {
   "cell_type": "code",
   "execution_count": 34,
   "id": "37b952f4",
   "metadata": {},
   "outputs": [
    {
     "name": "stdout",
     "output_type": "stream",
     "text": [
      "6\n"
     ]
    }
   ],
   "source": [
    "o= np.arange (11)\n",
    "print(o[6])"
   ]
  },
  {
   "cell_type": "code",
   "execution_count": 35,
   "id": "93fd1b09",
   "metadata": {},
   "outputs": [
    {
     "name": "stdout",
     "output_type": "stream",
     "text": [
      "[[1 0 0]\n",
      " [0 2 0]\n",
      " [0 0 3]]\n",
      "3\n"
     ]
    }
   ],
   "source": [
    "p = np.diag([1,2,3])\n",
    "print (p)\n",
    "print (p[2,2])"
   ]
  },
  {
   "cell_type": "code",
   "execution_count": 36,
   "id": "647769d2",
   "metadata": {},
   "outputs": [
    {
     "data": {
      "text/plain": [
       "array([[ 1,  0,  0],\n",
       "       [ 0,  2, 32],\n",
       "       [ 0,  0,  3]])"
      ]
     },
     "execution_count": 36,
     "metadata": {},
     "output_type": "execute_result"
    }
   ],
   "source": [
    "# if we have to exchage any letter on our matrix\n",
    "p[1,2]=32\n",
    "p"
   ]
  },
  {
   "cell_type": "code",
   "execution_count": 37,
   "id": "08cf29b5",
   "metadata": {},
   "outputs": [
    {
     "data": {
      "text/plain": [
       "array([ 0,  1,  2,  3,  4,  5,  6,  7,  8,  9, 10, 11])"
      ]
     },
     "execution_count": 37,
     "metadata": {},
     "output_type": "execute_result"
    }
   ],
   "source": [
    "q = np.arange(12)\n",
    "q"
   ]
  },
  {
   "cell_type": "code",
   "execution_count": 38,
   "id": "443db7da",
   "metadata": {},
   "outputs": [
    {
     "data": {
      "text/plain": [
       "array([1, 3, 5, 7])"
      ]
     },
     "execution_count": 38,
     "metadata": {},
     "output_type": "execute_result"
    }
   ],
   "source": [
    "a[1:9:2]"
   ]
  },
  {
   "cell_type": "code",
   "execution_count": 39,
   "id": "8704ba6f",
   "metadata": {},
   "outputs": [
    {
     "data": {
      "text/plain": [
       "array([ 0,  1,  2,  3,  4,  5,  6,  7,  8,  9, 10, 11, 12, 13, 14, 15, 16,\n",
       "       17, 18, 19, 22, 22, 22, 22, 22])"
      ]
     },
     "execution_count": 39,
     "metadata": {},
     "output_type": "execute_result"
    }
   ],
   "source": [
    "# if we have to reaplace multiple value at a same time \n",
    "r = np.arange (25)\n",
    "r[20:]=22\n",
    "r"
   ]
  },
  {
   "cell_type": "markdown",
   "id": "552a25f8",
   "metadata": {},
   "source": [
    "# Copies and views"
   ]
  },
  {
   "cell_type": "code",
   "execution_count": 40,
   "id": "f8e5b41f",
   "metadata": {},
   "outputs": [
    {
     "name": "stdout",
     "output_type": "stream",
     "text": [
      "[ 0  1  2  3  4  5  6  7  8  9 10 11]\n"
     ]
    }
   ],
   "source": [
    "s = np.arange (12)\n",
    "print (s)"
   ]
  },
  {
   "cell_type": "code",
   "execution_count": 41,
   "id": "daf274e5",
   "metadata": {},
   "outputs": [
    {
     "name": "stdout",
     "output_type": "stream",
     "text": [
      "[ 0  2  4  6  8 10]\n"
     ]
    }
   ],
   "source": [
    "#to copy data one array to another \n",
    "t = s[::2]# we copy s's data in t\n",
    "print (t)"
   ]
  },
  {
   "cell_type": "code",
   "execution_count": 42,
   "id": "2775f5f0",
   "metadata": {},
   "outputs": [
    {
     "data": {
      "text/plain": [
       "True"
      ]
     },
     "execution_count": 42,
     "metadata": {},
     "output_type": "execute_result"
    }
   ],
   "source": [
    "np.shares_memory(s,t)"
   ]
  },
  {
   "cell_type": "code",
   "execution_count": 43,
   "id": "9a341843",
   "metadata": {},
   "outputs": [
    {
     "name": "stdout",
     "output_type": "stream",
     "text": [
      "[ 0  2 36  6  8 10]\n"
     ]
    }
   ],
   "source": [
    "#we can change s's value with t\n",
    "t[2]= 36\n",
    "print (t)"
   ]
  },
  {
   "cell_type": "code",
   "execution_count": 44,
   "id": "b2067f8b",
   "metadata": {},
   "outputs": [
    {
     "name": "stdout",
     "output_type": "stream",
     "text": [
      "[ 0  1  2  3 36  5  6  7  8  9 10 11]\n"
     ]
    }
   ],
   "source": [
    "print (s)\n",
    "# beacuse the meomary are shaired and same"
   ]
  },
  {
   "cell_type": "code",
   "execution_count": 45,
   "id": "f473b658",
   "metadata": {},
   "outputs": [
    {
     "data": {
      "text/plain": [
       "array([ 0,  2, 36,  6,  8, 10])"
      ]
     },
     "execution_count": 45,
     "metadata": {},
     "output_type": "execute_result"
    }
   ],
   "source": [
    "# if we have to copy values of s into u\n",
    "u = s[::2].copy()\n",
    "u"
   ]
  },
  {
   "cell_type": "code",
   "execution_count": 46,
   "id": "c3a6e41b",
   "metadata": {},
   "outputs": [
    {
     "data": {
      "text/plain": [
       "False"
      ]
     },
     "execution_count": 46,
     "metadata": {},
     "output_type": "execute_result"
    }
   ],
   "source": [
    "np.shares_memory(s,u)"
   ]
  },
  {
   "cell_type": "markdown",
   "id": "9f2363ce",
   "metadata": {},
   "source": [
    "# fancy indexing"
   ]
  },
  {
   "cell_type": "markdown",
   "id": "e444d026",
   "metadata": {},
   "source": [
    "Using Boolean Mask"
   ]
  },
  {
   "cell_type": "code",
   "execution_count": 47,
   "id": "fa59e13d",
   "metadata": {},
   "outputs": [
    {
     "data": {
      "text/plain": [
       "array([ 6,  5,  8, 12,  1,  9,  6,  9, 12,  2,  1,  1,  2, 14, 10])"
      ]
     },
     "execution_count": 47,
     "metadata": {},
     "output_type": "execute_result"
    }
   ],
   "source": [
    "v= np.random.randint(0, 20,15)\n",
    "v"
   ]
  },
  {
   "cell_type": "code",
   "execution_count": 48,
   "id": "d27ebf9b",
   "metadata": {},
   "outputs": [],
   "source": [
    "mask = (v%2 == 0)"
   ]
  },
  {
   "cell_type": "code",
   "execution_count": 49,
   "id": "56c03c3c",
   "metadata": {},
   "outputs": [
    {
     "data": {
      "text/plain": [
       "array([ 6,  8, 12,  6, 12,  2,  2, 14, 10])"
      ]
     },
     "execution_count": 49,
     "metadata": {},
     "output_type": "execute_result"
    }
   ],
   "source": [
    "extract_from_v = v [mask]\n",
    "extract_from_v"
   ]
  },
  {
   "cell_type": "code",
   "execution_count": 50,
   "id": "fe39e28a",
   "metadata": {},
   "outputs": [
    {
     "data": {
      "text/plain": [
       "array([-1,  5, -1, -1,  1,  9, -1,  9, -1, -1,  1,  1, -1, -1, -1])"
      ]
     },
     "execution_count": 50,
     "metadata": {},
     "output_type": "execute_result"
    }
   ],
   "source": [
    "# if we have to put value of a[mask] is -1\n",
    "v[mask]=-1\n",
    "v"
   ]
  },
  {
   "cell_type": "markdown",
   "id": "d1c09702",
   "metadata": {},
   "source": [
    "indexing with an array of intigers"
   ]
  },
  {
   "cell_type": "code",
   "execution_count": 51,
   "id": "715b1f55",
   "metadata": {},
   "outputs": [
    {
     "data": {
      "text/plain": [
       "array([ 0, 10, 20, 30, 40, 50, 60, 70, 80, 90])"
      ]
     },
     "execution_count": 51,
     "metadata": {},
     "output_type": "execute_result"
    }
   ],
   "source": [
    "w = np.arange (0,100,10)\n",
    "w"
   ]
  },
  {
   "cell_type": "code",
   "execution_count": 52,
   "id": "09ff7ef9",
   "metadata": {},
   "outputs": [
    {
     "data": {
      "text/plain": [
       "array([20, 30, 10, 20, 20])"
      ]
     },
     "execution_count": 52,
     "metadata": {},
     "output_type": "execute_result"
    }
   ],
   "source": [
    "# if we have to creat array with w's index\n",
    "A=w[[2,3,1,2,2]]\n",
    "A"
   ]
  },
  {
   "cell_type": "code",
   "execution_count": 53,
   "id": "2f29e026",
   "metadata": {},
   "outputs": [
    {
     "data": {
      "text/plain": [
       "array([   0,   10, -200,   30, -200,   50,   60,   70,   80,   90])"
      ]
     },
     "execution_count": 53,
     "metadata": {},
     "output_type": "execute_result"
    }
   ],
   "source": [
    "# if we have to new values in our array\n",
    "w[[2,4]]=-200\n",
    "w"
   ]
  },
  {
   "cell_type": "markdown",
   "id": "34dc06fc",
   "metadata": {},
   "source": [
    "# Basic oprations "
   ]
  },
  {
   "cell_type": "code",
   "execution_count": 54,
   "id": "8614de4a",
   "metadata": {},
   "outputs": [
    {
     "data": {
      "text/plain": [
       "array([3, 4, 5, 6])"
      ]
     },
     "execution_count": 54,
     "metadata": {},
     "output_type": "execute_result"
    }
   ],
   "source": [
    "# if we have to add any number in our array \n",
    "B = np.array ([1,2,3,4])\n",
    "B+2"
   ]
  },
  {
   "cell_type": "code",
   "execution_count": 55,
   "id": "caa2debc",
   "metadata": {},
   "outputs": [
    {
     "data": {
      "text/plain": [
       "array([ 1,  4,  9, 16])"
      ]
     },
     "execution_count": 55,
     "metadata": {},
     "output_type": "execute_result"
    }
   ],
   "source": [
    "# if we have to squere of all our array\n",
    "B**2"
   ]
  },
  {
   "cell_type": "code",
   "execution_count": 56,
   "id": "27d74f60",
   "metadata": {
    "scrolled": true
   },
   "outputs": [
    {
     "name": "stdout",
     "output_type": "stream",
     "text": [
      "[2. 2. 2. 2.]\n",
      "[-1.  0.  1.  2.]\n"
     ]
    }
   ],
   "source": [
    "b= np.ones(4)+1\n",
    "print(b)\n",
    "print (B-b)\n"
   ]
  },
  {
   "cell_type": "code",
   "execution_count": 57,
   "id": "87f10d30",
   "metadata": {},
   "outputs": [
    {
     "name": "stdout",
     "output_type": "stream",
     "text": [
      "[[ 1  0  0  0]\n",
      " [ 0  4  0  0]\n",
      " [ 0  0  9  0]\n",
      " [ 0  0  0 16]]\n",
      "--------------------------------------------------------\n",
      "[[ 1  0  0  0]\n",
      " [ 0  4  0  0]\n",
      " [ 0  0  9  0]\n",
      " [ 0  0  0 16]]\n"
     ]
    }
   ],
   "source": [
    "# matrix multiplicition\n",
    "C = np.diag ([1,2,3,4])\n",
    "print (C*C)\n",
    "print(\"--------------------------------------------------------\")\n",
    "print (C.dot (C))"
   ]
  },
  {
   "cell_type": "code",
   "execution_count": 58,
   "id": "eec8b054",
   "metadata": {},
   "outputs": [
    {
     "data": {
      "text/plain": [
       "array([ True, False, False,  True,  True,  True])"
      ]
     },
     "execution_count": 58,
     "metadata": {},
     "output_type": "execute_result"
    }
   ],
   "source": [
    "# compairzations of arrays\n",
    "D = np.array ([1,2,3,4,5,6])\n",
    "E = np.array ([1,5,4,4,5,6])\n",
    "D==E\n"
   ]
  },
  {
   "cell_type": "code",
   "execution_count": 59,
   "id": "554835d0",
   "metadata": {},
   "outputs": [
    {
     "data": {
      "text/plain": [
       "array([False,  True,  True, False, False, False])"
      ]
     },
     "execution_count": 59,
     "metadata": {},
     "output_type": "execute_result"
    }
   ],
   "source": [
    "E>D"
   ]
  },
  {
   "cell_type": "code",
   "execution_count": 60,
   "id": "7ae2324f",
   "metadata": {},
   "outputs": [
    {
     "data": {
      "text/plain": [
       "False"
      ]
     },
     "execution_count": 60,
     "metadata": {},
     "output_type": "execute_result"
    }
   ],
   "source": [
    "# array wise compration\n",
    "E= np.array ([1,2,3,4])\n",
    "F= np.array ([1,2,5,4])\n",
    "G= np.array ([1,2,3,4])\n",
    "np.array_equal(E,F)"
   ]
  },
  {
   "cell_type": "code",
   "execution_count": 61,
   "id": "a8f9996e",
   "metadata": {},
   "outputs": [
    {
     "data": {
      "text/plain": [
       "True"
      ]
     },
     "execution_count": 61,
     "metadata": {},
     "output_type": "execute_result"
    }
   ],
   "source": [
    "np.array_equal(E,G)"
   ]
  },
  {
   "cell_type": "code",
   "execution_count": 62,
   "id": "4ec976ed",
   "metadata": {},
   "outputs": [
    {
     "data": {
      "text/plain": [
       "array([ True,  True,  True, False])"
      ]
     },
     "execution_count": 62,
     "metadata": {},
     "output_type": "execute_result"
    }
   ],
   "source": [
    "# logical oprations \n",
    "H = np.array([1,1,0,0],dtype=bool)\n",
    "I = np.array([1,0,1,0],dtype=bool)\n",
    "np.logical_or(H,I)"
   ]
  },
  {
   "cell_type": "code",
   "execution_count": 63,
   "id": "6ddfe97c",
   "metadata": {},
   "outputs": [
    {
     "data": {
      "text/plain": [
       "array([ True, False, False, False])"
      ]
     },
     "execution_count": 63,
     "metadata": {},
     "output_type": "execute_result"
    }
   ],
   "source": [
    "np.logical_and(H,I)"
   ]
  },
  {
   "cell_type": "code",
   "execution_count": 64,
   "id": "bff91aa9",
   "metadata": {},
   "outputs": [
    {
     "data": {
      "text/plain": [
       "array([ 0.        ,  0.84147098,  0.90929743,  0.14112001, -0.7568025 ])"
      ]
     },
     "execution_count": 64,
     "metadata": {},
     "output_type": "execute_result"
    }
   ],
   "source": [
    "# transcendental functions\n",
    "J = np.arange(5)\n",
    "np.sin(J)"
   ]
  },
  {
   "cell_type": "code",
   "execution_count": 65,
   "id": "011c80f4",
   "metadata": {},
   "outputs": [
    {
     "name": "stderr",
     "output_type": "stream",
     "text": [
      "C:\\Users\\Admin\\AppData\\Local\\Temp\\ipykernel_2548\\2359282054.py:1: RuntimeWarning: divide by zero encountered in log\n",
      "  np.log(J)\n"
     ]
    },
    {
     "data": {
      "text/plain": [
       "array([      -inf, 0.        , 0.69314718, 1.09861229, 1.38629436])"
      ]
     },
     "execution_count": 65,
     "metadata": {},
     "output_type": "execute_result"
    }
   ],
   "source": [
    "np.log(J)"
   ]
  },
  {
   "cell_type": "code",
   "execution_count": 66,
   "id": "4aabf9c5",
   "metadata": {},
   "outputs": [
    {
     "data": {
      "text/plain": [
       "array([ 1.        ,  2.71828183,  7.3890561 , 20.08553692, 54.59815003])"
      ]
     },
     "execution_count": 66,
     "metadata": {},
     "output_type": "execute_result"
    }
   ],
   "source": [
    "np.exp(J)#evaluates e^x for each element in a given input"
   ]
  },
  {
   "cell_type": "code",
   "execution_count": 67,
   "id": "484d9f71",
   "metadata": {},
   "outputs": [],
   "source": [
    "# numpy array missmatch\n",
    "# K = np.arnge(4)\n",
    "# L = np.array([1,2])"
   ]
  },
  {
   "cell_type": "markdown",
   "id": "ffdda990",
   "metadata": {},
   "source": [
    "# Basic reduction"
   ]
  },
  {
   "cell_type": "code",
   "execution_count": 68,
   "id": "036c721f",
   "metadata": {},
   "outputs": [
    {
     "data": {
      "text/plain": [
       "10"
      ]
     },
     "execution_count": 68,
     "metadata": {},
     "output_type": "execute_result"
    }
   ],
   "source": [
    "# calculating sums of array\n",
    "M = np.array([1,2,3,4])\n",
    "np.sum(M)"
   ]
  },
  {
   "cell_type": "code",
   "execution_count": 69,
   "id": "848153f2",
   "metadata": {},
   "outputs": [
    {
     "data": {
      "text/plain": [
       "array([[1, 2],\n",
       "       [3, 4]])"
      ]
     },
     "execution_count": 69,
     "metadata": {},
     "output_type": "execute_result"
    }
   ],
   "source": [
    "# sum by colomn and by row\n",
    "N = np.array([[1,2],[3,4]])\n",
    "N"
   ]
  },
  {
   "cell_type": "code",
   "execution_count": 70,
   "id": "fb7b2216",
   "metadata": {},
   "outputs": [
    {
     "data": {
      "text/plain": [
       "array([4, 6])"
      ]
     },
     "execution_count": 70,
     "metadata": {},
     "output_type": "execute_result"
    }
   ],
   "source": [
    "N.sum(axis=0) #if axis = 0 mens colomn wise some "
   ]
  },
  {
   "cell_type": "code",
   "execution_count": 71,
   "id": "590508d4",
   "metadata": {},
   "outputs": [
    {
     "data": {
      "text/plain": [
       "array([3, 7])"
      ]
     },
     "execution_count": 71,
     "metadata": {},
     "output_type": "execute_result"
    }
   ],
   "source": [
    "N.sum(axis=1) #if axis = 1 mens row wise some"
   ]
  },
  {
   "cell_type": "markdown",
   "id": "9a1b7a63",
   "metadata": {},
   "source": [
    "other reductions"
   ]
  },
  {
   "cell_type": "code",
   "execution_count": 72,
   "id": "66ea4433",
   "metadata": {},
   "outputs": [
    {
     "data": {
      "text/plain": [
       "1"
      ]
     },
     "execution_count": 72,
     "metadata": {},
     "output_type": "execute_result"
    }
   ],
   "source": [
    "\n",
    "# find minimum value\n",
    "O = np.array([1,3,5,2])\n",
    "O.min()"
   ]
  },
  {
   "cell_type": "code",
   "execution_count": 73,
   "id": "a90d64b5",
   "metadata": {},
   "outputs": [
    {
     "data": {
      "text/plain": [
       "5"
      ]
     },
     "execution_count": 73,
     "metadata": {},
     "output_type": "execute_result"
    }
   ],
   "source": [
    "# find maxium value\n",
    "O.max()"
   ]
  },
  {
   "cell_type": "code",
   "execution_count": 74,
   "id": "969ef096",
   "metadata": {},
   "outputs": [
    {
     "data": {
      "text/plain": [
       "0"
      ]
     },
     "execution_count": 74,
     "metadata": {},
     "output_type": "execute_result"
    }
   ],
   "source": [
    "# find minium values index num\n",
    "O.argmin()"
   ]
  },
  {
   "cell_type": "code",
   "execution_count": 75,
   "id": "61103918",
   "metadata": {},
   "outputs": [
    {
     "data": {
      "text/plain": [
       "2"
      ]
     },
     "execution_count": 75,
     "metadata": {},
     "output_type": "execute_result"
    }
   ],
   "source": [
    "# find maximum values index number\n",
    "O.argmax()"
   ]
  },
  {
   "cell_type": "markdown",
   "id": "0da26839",
   "metadata": {},
   "source": [
    "logical Oprations"
   ]
  },
  {
   "cell_type": "code",
   "execution_count": 76,
   "id": "d287011b",
   "metadata": {},
   "outputs": [
    {
     "data": {
      "text/plain": [
       "False"
      ]
     },
     "execution_count": 76,
     "metadata": {},
     "output_type": "execute_result"
    }
   ],
   "source": [
    "# if all value is true so ans is true \n",
    "np.all([True,False,True,False])"
   ]
  },
  {
   "cell_type": "code",
   "execution_count": 77,
   "id": "d34fe5d0",
   "metadata": {},
   "outputs": [
    {
     "data": {
      "text/plain": [
       "True"
      ]
     },
     "execution_count": 77,
     "metadata": {},
     "output_type": "execute_result"
    }
   ],
   "source": [
    "# if any value is true answer is true\n",
    "np.any([True,False,True,False])"
   ]
  },
  {
   "cell_type": "code",
   "execution_count": 78,
   "id": "9c02fe84",
   "metadata": {},
   "outputs": [
    {
     "data": {
      "text/plain": [
       "False"
      ]
     },
     "execution_count": 78,
     "metadata": {},
     "output_type": "execute_result"
    }
   ],
   "source": [
    "# can be used for array comparizations\n",
    "P = np.zeros((50,50))\n",
    "np.any(P != 0)"
   ]
  },
  {
   "cell_type": "code",
   "execution_count": 79,
   "id": "e40bb82f",
   "metadata": {},
   "outputs": [
    {
     "data": {
      "text/plain": [
       "True"
      ]
     },
     "execution_count": 79,
     "metadata": {},
     "output_type": "execute_result"
    }
   ],
   "source": [
    "np.all(a==a)"
   ]
  },
  {
   "cell_type": "code",
   "execution_count": 80,
   "id": "c0234b49",
   "metadata": {},
   "outputs": [
    {
     "data": {
      "text/plain": [
       "True"
      ]
     },
     "execution_count": 80,
     "metadata": {},
     "output_type": "execute_result"
    }
   ],
   "source": [
    "AA = np.array([1,2,3,2])\n",
    "BB = np.array([2,2,3,2])\n",
    "CC = np.array([6,4,4,5])\n",
    "((AA<=BB)&(BB<=CC)).all()"
   ]
  },
  {
   "cell_type": "markdown",
   "id": "f28c4d94",
   "metadata": {},
   "source": [
    "Statisics"
   ]
  },
  {
   "cell_type": "code",
   "execution_count": 81,
   "id": "7b7bc86c",
   "metadata": {},
   "outputs": [
    {
     "data": {
      "text/plain": [
       "1.75"
      ]
     },
     "execution_count": 81,
     "metadata": {},
     "output_type": "execute_result"
    }
   ],
   "source": [
    "# if we have to find mean \n",
    "\n",
    "Q= np.array ([1,2,3,1])\n",
    "R = np.array([[1,2,3],[5,6,1]])\n",
    "np.mean(Q)"
   ]
  },
  {
   "cell_type": "code",
   "execution_count": 82,
   "id": "4acc22f1",
   "metadata": {},
   "outputs": [
    {
     "data": {
      "text/plain": [
       "1.5"
      ]
     },
     "execution_count": 82,
     "metadata": {},
     "output_type": "execute_result"
    }
   ],
   "source": [
    "# if we have to find median\n",
    "np.median(Q)"
   ]
  },
  {
   "cell_type": "code",
   "execution_count": 83,
   "id": "62643c35",
   "metadata": {},
   "outputs": [
    {
     "data": {
      "text/plain": [
       "array([2., 5.])"
      ]
     },
     "execution_count": 83,
     "metadata": {},
     "output_type": "execute_result"
    }
   ],
   "source": [
    "# if we have to find median of 2-d array\n",
    "np.median(R, axis=1)   #last axis"
   ]
  },
  {
   "cell_type": "code",
   "execution_count": 84,
   "id": "180c9825",
   "metadata": {},
   "outputs": [],
   "source": [
    "# if we have to load text file\n",
    "# data = np.loadtxt(\"files name.txt\")\n",
    "# data\n",
    "# in digital daru numpy part 6 at 6.48\n",
    "# please see numpy ep.6 at digital daru"
   ]
  },
  {
   "cell_type": "markdown",
   "id": "4c72ebbd",
   "metadata": {},
   "source": [
    "# Brodcasting\n",
    "please see in digital daru ep.7 of numpy"
   ]
  },
  {
   "cell_type": "code",
   "execution_count": 85,
   "id": "0978c4ca",
   "metadata": {},
   "outputs": [
    {
     "name": "stdout",
     "output_type": "stream",
     "text": [
      "[[ 0 10 20 30]\n",
      " [ 0 10 20 30]\n",
      " [ 0 10 20 30]]\n",
      "************************************************\n",
      "[[ 0  0  0]\n",
      " [10 10 10]\n",
      " [20 20 20]\n",
      " [30 30 30]]\n"
     ]
    }
   ],
   "source": [
    "# if we have to creat range and repit it\n",
    "S = np.tile(np.arange(0,40,10),(3,1))\n",
    "print(S)\n",
    "print(\"************************************************\")\n",
    "\n",
    "S=S.T   #.t means transverce\n",
    "print (S)"
   ]
  },
  {
   "cell_type": "code",
   "execution_count": 86,
   "id": "f3d2e271",
   "metadata": {},
   "outputs": [
    {
     "name": "stdout",
     "output_type": "stream",
     "text": [
      "[0 1 2]\n"
     ]
    }
   ],
   "source": [
    "# if we have to add two asemetrical matrixes\n",
    "T = np.array([0,1,2])\n",
    "print(T)"
   ]
  },
  {
   "cell_type": "code",
   "execution_count": 87,
   "id": "63a48a3d",
   "metadata": {},
   "outputs": [
    {
     "data": {
      "text/plain": [
       "array([[ 0,  1,  2],\n",
       "       [10, 11, 12],\n",
       "       [20, 21, 22],\n",
       "       [30, 31, 32]])"
      ]
     },
     "execution_count": 87,
     "metadata": {},
     "output_type": "execute_result"
    }
   ],
   "source": [
    "S+T"
   ]
  },
  {
   "cell_type": "code",
   "execution_count": 88,
   "id": "7788d18e",
   "metadata": {},
   "outputs": [
    {
     "data": {
      "text/plain": [
       "(3, 1)"
      ]
     },
     "execution_count": 88,
     "metadata": {},
     "output_type": "execute_result"
    }
   ],
   "source": [
    "# if we have to add new axis in our aray\n",
    "T = T[:, np.newaxis]\n",
    "T.shape"
   ]
  },
  {
   "cell_type": "code",
   "execution_count": 89,
   "id": "ba276450",
   "metadata": {},
   "outputs": [
    {
     "name": "stdout",
     "output_type": "stream",
     "text": [
      "[[1 2 3]\n",
      " [4 5 6]]\n"
     ]
    },
    {
     "data": {
      "text/plain": [
       "array([1, 2, 3, 4, 5, 6])"
      ]
     },
     "execution_count": 89,
     "metadata": {},
     "output_type": "execute_result"
    }
   ],
   "source": [
    "# if we have to convert 2-d array to 1-d \n",
    "U =np.array([[1,2,3],[4,5,6]])\n",
    "print (U)\n",
    "U.ravel()"
   ]
  },
  {
   "cell_type": "code",
   "execution_count": 90,
   "id": "94b5a9e6",
   "metadata": {},
   "outputs": [
    {
     "data": {
      "text/plain": [
       "array([[1, 4],\n",
       "       [2, 5],\n",
       "       [3, 6]])"
      ]
     },
     "execution_count": 90,
     "metadata": {},
     "output_type": "execute_result"
    }
   ],
   "source": [
    "# if we have to transpose array\n",
    "\n",
    "U.T\n"
   ]
  },
  {
   "cell_type": "code",
   "execution_count": 91,
   "id": "2e900ccc",
   "metadata": {},
   "outputs": [
    {
     "data": {
      "text/plain": [
       "array([1, 4, 2, 5, 3, 6])"
      ]
     },
     "execution_count": 91,
     "metadata": {},
     "output_type": "execute_result"
    }
   ],
   "source": [
    "U.T.ravel()"
   ]
  },
  {
   "cell_type": "code",
   "execution_count": 92,
   "id": "a508aedb",
   "metadata": {},
   "outputs": [
    {
     "name": "stdout",
     "output_type": "stream",
     "text": [
      "[1 4 2 5 3 6]\n"
     ]
    }
   ],
   "source": [
    "# if we have to reconvert into their main shape\n",
    "V = U.T.ravel()\n",
    "print (V)"
   ]
  },
  {
   "cell_type": "code",
   "execution_count": 93,
   "id": "55409074",
   "metadata": {},
   "outputs": [
    {
     "name": "stdout",
     "output_type": "stream",
     "text": [
      "(2, 3)\n",
      "[[1 2 3]\n",
      " [4 5 6]]\n"
     ]
    }
   ],
   "source": [
    "print (U.shape)\n",
    "print (U)\n"
   ]
  },
  {
   "cell_type": "code",
   "execution_count": 94,
   "id": "ad8664ce",
   "metadata": {},
   "outputs": [
    {
     "name": "stdout",
     "output_type": "stream",
     "text": [
      "[1 2 3 4 5 6]\n"
     ]
    }
   ],
   "source": [
    "W = U.ravel()\n",
    "print (W)"
   ]
  },
  {
   "cell_type": "code",
   "execution_count": 95,
   "id": "dc9e1c74",
   "metadata": {},
   "outputs": [
    {
     "name": "stdout",
     "output_type": "stream",
     "text": [
      "[[1 2 3]\n",
      " [4 5 6]]\n"
     ]
    }
   ],
   "source": [
    "W=W.reshape((2,3))\n",
    "print(W)"
   ]
  },
  {
   "cell_type": "code",
   "execution_count": 96,
   "id": "3ca4605a",
   "metadata": {},
   "outputs": [
    {
     "data": {
      "text/plain": [
       "array([[5000,    2,    3],\n",
       "       [   4,    5,    6]])"
      ]
     },
     "execution_count": 96,
     "metadata": {},
     "output_type": "execute_result"
    }
   ],
   "source": [
    "W[0,0]=5000\n",
    "W"
   ]
  },
  {
   "cell_type": "code",
   "execution_count": 97,
   "id": "42127d9a",
   "metadata": {},
   "outputs": [],
   "source": [
    "X = np.zeros((3,2))\n",
    "Y = X.T.reshape((3,2))\n",
    "Y[1,1]=55555"
   ]
  },
  {
   "cell_type": "markdown",
   "id": "75b499bf",
   "metadata": {},
   "source": []
  },
  {
   "cell_type": "code",
   "execution_count": 98,
   "id": "6aa2fa44",
   "metadata": {},
   "outputs": [
    {
     "name": "stdout",
     "output_type": "stream",
     "text": [
      "[[0. 0.]\n",
      " [0. 0.]\n",
      " [0. 0.]]\n",
      "******************************\n",
      "[[    0.     0.]\n",
      " [    0. 55555.]\n",
      " [    0.     0.]]\n"
     ]
    }
   ],
   "source": [
    "print (X)\n",
    "print(\"******************************\")\n",
    "print(Y)"
   ]
  },
  {
   "cell_type": "code",
   "execution_count": 99,
   "id": "b2a9ddbc",
   "metadata": {},
   "outputs": [
    {
     "data": {
      "text/plain": [
       "array([[1],\n",
       "       [2],\n",
       "       [3],\n",
       "       [4],\n",
       "       [5],\n",
       "       [6],\n",
       "       [7],\n",
       "       [8]])"
      ]
     },
     "execution_count": 99,
     "metadata": {},
     "output_type": "execute_result"
    }
   ],
   "source": [
    "# if we have to comvert 1-d array in 2-d\n",
    "DD = np.array([1,2,3,4,5,6,7,8])\n",
    "DD[:,np.newaxis]"
   ]
  },
  {
   "cell_type": "code",
   "execution_count": 100,
   "id": "a982bac6",
   "metadata": {},
   "outputs": [
    {
     "data": {
      "text/plain": [
       "array([[1, 2],\n",
       "       [3, 4],\n",
       "       [5, 6],\n",
       "       [7, 8]])"
      ]
     },
     "execution_count": 100,
     "metadata": {},
     "output_type": "execute_result"
    }
   ],
   "source": [
    "EE=DD.reshape(4,2)\n",
    "EE"
   ]
  },
  {
   "cell_type": "markdown",
   "id": "c70b4155",
   "metadata": {},
   "source": [
    "Resizing of matrix"
   ]
  },
  {
   "cell_type": "code",
   "execution_count": 101,
   "id": "c3fca730",
   "metadata": {},
   "outputs": [
    {
     "data": {
      "text/plain": [
       "array([0, 1, 2, 3, 0, 0])"
      ]
     },
     "execution_count": 101,
     "metadata": {},
     "output_type": "execute_result"
    }
   ],
   "source": [
    "FF = np.arange(4)\n",
    "FF.resize((6,))\n",
    "FF"
   ]
  },
  {
   "cell_type": "code",
   "execution_count": 102,
   "id": "7fbb49b6",
   "metadata": {},
   "outputs": [
    {
     "data": {
      "text/plain": [
       "array([[1, 4, 5, 5, 6],\n",
       "       [4, 5, 5, 7, 8]])"
      ]
     },
     "execution_count": 102,
     "metadata": {},
     "output_type": "execute_result"
    }
   ],
   "source": [
    "# if we have to sort data\n",
    "GG = np.array ([[1,5,4,6,5],[5,4,5,7,8]])\n",
    "HH =np.sort(GG,axis=1)\n",
    "(HH)"
   ]
  },
  {
   "cell_type": "code",
   "execution_count": 103,
   "id": "fa4553bc",
   "metadata": {},
   "outputs": [
    {
     "data": {
      "text/plain": [
       "array([[1, 4, 5, 5, 6],\n",
       "       [4, 5, 5, 7, 8]])"
      ]
     },
     "execution_count": 103,
     "metadata": {},
     "output_type": "execute_result"
    }
   ],
   "source": [
    "GG.sort(axis=1)\n",
    "GG"
   ]
  },
  {
   "cell_type": "code",
   "execution_count": 104,
   "id": "29534029",
   "metadata": {},
   "outputs": [
    {
     "name": "stdout",
     "output_type": "stream",
     "text": [
      "--------------------------------------\n",
      "[2 0 5 1 3 4 6]\n"
     ]
    }
   ],
   "source": [
    "# sorting with fancy indexing\n",
    "HH = np.array([4,5,1,5,5,4,5])\n",
    "print (\"--------------------------------------\")\n",
    "JJ = np.argsort(HH)\n",
    "print (JJ)"
   ]
  },
  {
   "cell_type": "code",
   "execution_count": 105,
   "id": "cc0f329f",
   "metadata": {},
   "outputs": [
    {
     "data": {
      "text/plain": [
       "array([[2, 2, 2, 2, 2],\n",
       "       [2, 0, 2, 2, 2],\n",
       "       [2, 2, 5, 2, 2],\n",
       "       [2, 2, 2, 1, 2],\n",
       "       [2, 2, 2, 2, 3]], dtype=int64)"
      ]
     },
     "execution_count": 105,
     "metadata": {},
     "output_type": "execute_result"
    }
   ],
   "source": [
    "JJ[j]"
   ]
  }
 ],
 "metadata": {
  "kernelspec": {
   "display_name": "Python 3 (ipykernel)",
   "language": "python",
   "name": "python3"
  },
  "language_info": {
   "codemirror_mode": {
    "name": "ipython",
    "version": 3
   },
   "file_extension": ".py",
   "mimetype": "text/x-python",
   "name": "python",
   "nbconvert_exporter": "python",
   "pygments_lexer": "ipython3",
   "version": "3.11.1"
  },
  "vscode": {
   "interpreter": {
    "hash": "5238573367df39f7286bb46f9ff5f08f63a01a80960060ce41e3c79b190280fa"
   }
  }
 },
 "nbformat": 4,
 "nbformat_minor": 5
}
